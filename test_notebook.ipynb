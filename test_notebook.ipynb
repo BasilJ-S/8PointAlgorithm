{
 "cells": [
  {
   "cell_type": "code",
   "execution_count": 2,
   "metadata": {},
   "outputs": [
    {
     "ename": "SyntaxError",
     "evalue": "invalid syntax (10590748.py, line 2)",
     "output_type": "error",
     "traceback": [
      "\u001b[1;36m  Cell \u001b[1;32mIn[2], line 2\u001b[1;36m\u001b[0m\n\u001b[1;33m    import\u001b[0m\n\u001b[1;37m           ^\u001b[0m\n\u001b[1;31mSyntaxError\u001b[0m\u001b[1;31m:\u001b[0m invalid syntax\n"
     ]
    }
   ],
   "source": [
    "import numpy as np\n",
    "import "
   ]
  },
  {
   "cell_type": "code",
   "execution_count": 8,
   "metadata": {},
   "outputs": [
    {
     "data": {
      "text/plain": [
       "array([[1., 0., 9.],\n",
       "       [0., 1., 0.],\n",
       "       [0., 0., 1.]])"
      ]
     },
     "execution_count": 8,
     "metadata": {},
     "output_type": "execute_result"
    }
   ],
   "source": [
    "x = np.eye(3)\n",
    "x[0,2] = 9\n",
    "x"
   ]
  },
  {
   "cell_type": "code",
   "execution_count": 22,
   "metadata": {},
   "outputs": [
    {
     "name": "stdout",
     "output_type": "stream",
     "text": [
      "[[0.92689598 0.82436364]\n",
      " [0.89557737 0.81169365]\n",
      " [0.61346799 0.88608728]\n",
      " [0.15706191 0.75339811]\n",
      " [0.50837028 0.73307046]]\n",
      "[[0.92689598 0.82436364 1.        ]\n",
      " [0.89557737 0.81169365 1.        ]\n",
      " [0.61346799 0.88608728 1.        ]\n",
      " [0.15706191 0.75339811 1.        ]\n",
      " [0.50837028 0.73307046 1.        ]]\n",
      "[[4. 0. 0.]\n",
      " [0. 4. 0.]\n",
      " [0. 0. 4.]]\n",
      "[[3.70758394 3.29745455 4.        ]\n",
      " [3.58230947 3.24677459 4.        ]\n",
      " [2.45387196 3.5443491  4.        ]\n",
      " [0.62824763 3.01359244 4.        ]\n",
      " [2.03348113 2.93228184 4.        ]]\n",
      "[[0.92689598 0.82436364]\n",
      " [0.89557737 0.81169365]\n",
      " [0.61346799 0.88608728]\n",
      " [0.15706191 0.75339811]\n",
      " [0.50837028 0.73307046]]\n"
     ]
    }
   ],
   "source": [
    "\n",
    "pts1 = np.random.random((5,2))\n",
    "print(pts1)\n",
    "pts1_hom = np.hstack((pts1, np.ones((pts1.shape[0], 1))))\n",
    "print(pts1_hom)\n",
    "\n",
    "\n",
    "F = np.eye(3) * 4\n",
    "print(F)\n",
    "transformed_pts = (F @ pts1_hom.T).T\n",
    "print(transformed_pts)\n",
    "\n",
    "transformed_pts_adjusted = transformed_pts[:, 0:2] / transformed_pts[:, 2][:, None]\n",
    "print(transformed_pts_adjusted)"
   ]
  },
  {
   "cell_type": "code",
   "execution_count": 37,
   "metadata": {},
   "outputs": [],
   "source": [
    "def apply_matrix(pts, F):\n",
    "    ''' \n",
    "    apply matrix F to the input points, first converting to homogenous\n",
    "    Params:\n",
    "    pts: (Nxm) matrix of points\n",
    "    F: (m+1 x m+1) matrix (could be fundmental)\n",
    "    '''  \n",
    "    # Convert to homgenous coords  \n",
    "    pts_hom = np.hstack((pts, np.ones((pts.shape[0], 1)))) # (N x m)\n",
    "\n",
    "    # Transform by matrix F\n",
    "    transformed_pts = (F @ pts_hom.T).T  # (N x m)\n",
    "\n",
    "    # Divide by homogenous scaling\n",
    "    return transformed_pts[:, 0:pts.shape[1]] / transformed_pts[:, pts.shape[1]][:, None]"
   ]
  },
  {
   "cell_type": "code",
   "execution_count": 25,
   "metadata": {},
   "outputs": [
    {
     "name": "stdout",
     "output_type": "stream",
     "text": [
      "[[0.10848983 0.46465733]\n",
      " [0.67805651 0.01982119]\n",
      " [0.29478836 0.25941299]\n",
      " [0.33913677 0.57593091]\n",
      " [0.10673566 0.57178743]]\n",
      "[[0.10848983 0.46465733 1.        ]\n",
      " [0.67805651 0.01982119 1.        ]\n",
      " [0.29478836 0.25941299 1.        ]\n",
      " [0.33913677 0.57593091 1.        ]\n",
      " [0.10673566 0.57178743 1.        ]]\n",
      "[[4. 0. 0.]\n",
      " [0. 4. 0.]\n",
      " [0. 0. 4.]]\n",
      "[[0.43395931 1.85862933 4.        ]\n",
      " [2.71222604 0.07928474 4.        ]\n",
      " [1.17915343 1.03765196 4.        ]\n",
      " [1.35654709 2.30372366 4.        ]\n",
      " [0.42694263 2.28714971 4.        ]]\n",
      "[[0.10848983 0.46465733]\n",
      " [0.67805651 0.01982119]\n",
      " [0.29478836 0.25941299]\n",
      " [0.33913677 0.57593091]\n",
      " [0.10673566 0.57178743]]\n"
     ]
    }
   ],
   "source": [
    "pts1 = np.random.random((5,2))\n",
    "print(pts1)\n",
    "\n",
    "pts1_hom = np.hstack((pts1, np.ones((pts1.shape[0], 1))))\n",
    "print(pts1_hom)\n",
    "\n",
    "\n",
    "F = np.eye(3) * 4\n",
    "print(F)\n",
    "transformed_pts = (F @ pts1_hom.T).T\n",
    "print(transformed_pts)\n",
    "\n",
    "transformed_pts_adjusted = transformed_pts[:, 0:2] / transformed_pts[:, 2][:, None]\n",
    "print(transformed_pts_adjusted)"
   ]
  },
  {
   "cell_type": "code",
   "execution_count": 38,
   "metadata": {},
   "outputs": [
    {
     "name": "stdout",
     "output_type": "stream",
     "text": [
      "[[0.10848983 0.46465733]\n",
      " [0.67805651 0.01982119]\n",
      " [0.29478836 0.25941299]\n",
      " [0.33913677 0.57593091]\n",
      " [0.10673566 0.57178743]]\n"
     ]
    }
   ],
   "source": [
    "fun_pts = apply_matrix(pts1, F)\n",
    "print(fun_pts)"
   ]
  },
  {
   "cell_type": "code",
   "execution_count": null,
   "metadata": {},
   "outputs": [],
   "source": [
    "apply_matrix"
   ]
  },
  {
   "cell_type": "code",
   "execution_count": 42,
   "metadata": {},
   "outputs": [
    {
     "name": "stdout",
     "output_type": "stream",
     "text": [
      "[ 5 18  1]\n"
     ]
    },
    {
     "data": {
      "text/plain": [
       "np.int64(24)"
      ]
     },
     "execution_count": 42,
     "metadata": {},
     "output_type": "execute_result"
    }
   ],
   "source": [
    "x = np.array([[1,2], [3, 3], [1, 0]])\n",
    "\n",
    "print(np.sum(x ** 2, axis=1))\n",
    "np.sum(np.sum(x ** 2, axis=1))"
   ]
  },
  {
   "cell_type": "code",
   "execution_count": 55,
   "metadata": {},
   "outputs": [],
   "source": [
    "def calculate_dist(pts1, pts2):\n",
    "    '''Calculate the distance between two sets of N-D vectors. Assumes pts is of size M x N. I.e M N-D vectors'''\n",
    "    diff = pts1 - pts2\n",
    "    return np.linalg.norm(diff, axis=1)\n"
   ]
  },
  {
   "cell_type": "code",
   "execution_count": 57,
   "metadata": {},
   "outputs": [
    {
     "name": "stdout",
     "output_type": "stream",
     "text": [
      "[[1 2]\n",
      " [0 0]\n",
      " [2 2]]\n",
      "[[1 3]\n",
      " [1 1]\n",
      " [2 2]]\n",
      "[1.         1.41421356 0.        ]\n"
     ]
    }
   ],
   "source": [
    "x = np.array([[1,2], [0,0], [2,2]])\n",
    "y = np.copy(x)\n",
    "y[0, 1] = 3\n",
    "y[1] = [1,1]\n",
    "\n",
    "print(x)\n",
    "print(y)\n",
    "\n",
    "\n",
    "\n",
    "print(calculate_dist(x, y))"
   ]
  }
 ],
 "metadata": {
  "kernelspec": {
   "display_name": "comp558project",
   "language": "python",
   "name": "python3"
  },
  "language_info": {
   "codemirror_mode": {
    "name": "ipython",
    "version": 3
   },
   "file_extension": ".py",
   "mimetype": "text/x-python",
   "name": "python",
   "nbconvert_exporter": "python",
   "pygments_lexer": "ipython3",
   "version": "3.12.6"
  }
 },
 "nbformat": 4,
 "nbformat_minor": 2
}
