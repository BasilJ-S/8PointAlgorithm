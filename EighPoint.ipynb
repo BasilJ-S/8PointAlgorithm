{
 "cells": [
  {
   "cell_type": "markdown",
   "metadata": {},
   "source": [
    "# 8-point Algo"
   ]
  },
  {
   "cell_type": "code",
   "execution_count": 1,
   "metadata": {},
   "outputs": [],
   "source": [
    "# Imports\n",
    "import cv2\n",
    "import numpy as np\n",
    "import matplotlib.pyplot as plt\n",
    "import os\n",
    "\n",
    "# Constants\n",
    "MIN_MATCH_COUNT = 8"
   ]
  },
  {
   "cell_type": "markdown",
   "metadata": {},
   "source": [
    "## Find Keypoints and Match with RANSAC"
   ]
  },
  {
   "cell_type": "markdown",
   "metadata": {},
   "source": [
    "### Find keypoints and descriptors"
   ]
  },
  {
   "cell_type": "code",
   "execution_count": 2,
   "metadata": {},
   "outputs": [],
   "source": [
    "def find_keypoints_and_descriptors(image_gray, detector = cv2.ORB_create(3000)):\n",
    "    '''Detect keypoints in a greyscale image'''\n",
    "    keypoints, descriptors = detector.detectAndCompute(image_gray, None)\n",
    "    return keypoints, descriptors\n"
   ]
  },
  {
   "cell_type": "markdown",
   "metadata": {},
   "source": [
    "### Match Points"
   ]
  },
  {
   "cell_type": "code",
   "execution_count": 3,
   "metadata": {},
   "outputs": [],
   "source": [
    "# Find good matches between two sets of descriptors\n",
    "def match_descriptors(des1, des2):\n",
    "    bf = cv2.BFMatcher()\n",
    "    matches = bf.knnMatch(des1, des2, k=2)\n",
    "    good_matches = []\n",
    "    for m, n in matches:\n",
    "        if m.distance < 0.75 * n.distance:\n",
    "            good_matches.append(m)\n",
    "    return good_matches\n"
   ]
  },
  {
   "cell_type": "markdown",
   "metadata": {},
   "source": [
    "### Find inliers of matches"
   ]
  },
  {
   "cell_type": "code",
   "execution_count": 4,
   "metadata": {},
   "outputs": [],
   "source": [
    "def find_homography_and_draw_matches(im1_gray, im2_gray, kp1, kp2, good_matches):\n",
    "    '''Find homography between two images given the keypoints'''\n",
    "    if len(good_matches) > MIN_MATCH_COUNT:\n",
    "        src_pts = np.float32([kp1[m.queryIdx].pt for m in good_matches]).reshape(-1, 1, 2)\n",
    "        dst_pts = np.float32([kp2[m.trainIdx].pt for m in good_matches]).reshape(-1, 1, 2)\n",
    "        M, mask = cv2.findHomography(src_pts, dst_pts, cv2.RANSAC, 5.0)\n",
    "        matchesMask = mask.ravel().tolist()\n",
    "    else:\n",
    "        print(\"Not enough matches are found - {}/{}\".format(len(good_matches), MIN_MATCH_COUNT))\n",
    "        matchesMask = None\n",
    "    \n",
    "    inlier_pts1 = np.float32([kp1[m.queryIdx].pt for i, m in enumerate(good_matches) if matchesMask[i]])\n",
    "    inlier_pts2 = np.float32([kp2[m.trainIdx].pt for i, m in enumerate(good_matches) if matchesMask[i]])\n",
    "    \n",
    "    return inlier_pts1, inlier_pts2"
   ]
  },
  {
   "cell_type": "markdown",
   "metadata": {},
   "source": [
    "### Find inlier matching points between 2 images"
   ]
  },
  {
   "cell_type": "code",
   "execution_count": 5,
   "metadata": {},
   "outputs": [],
   "source": [
    "def find_inlier_matching_points(im1_gray, im2_gray):\n",
    "    '''Function to find inlier matching points between two images'''\n",
    "    # Find the key points and descriptors in the two images\n",
    "    kp1, des1 = find_keypoints_and_descriptors(im1_gray)\n",
    "    kp2, des2 = find_keypoints_and_descriptors(im2_gray)\n",
    "\n",
    "    # Match keypoints\n",
    "    good_matches = match_descriptors(des1, des2)\n",
    "\n",
    "    # Find homography and draw matches\n",
    "    inlier_pts1, inlier_pts2 = find_homography_and_draw_matches(im1_gray, im2_gray, kp1, kp2, good_matches)\n",
    "    # inlier_pts1 = np.float32([kp1[m.queryIdx].pt for i, m in enumerate(good_matches)])\n",
    "    # inlier_pts2 = np.float32([kp2[m.trainIdx].pt for i, m in enumerate(good_matches)])\n",
    "    return inlier_pts1, inlier_pts2"
   ]
  },
  {
   "cell_type": "code",
   "execution_count": 6,
   "metadata": {},
   "outputs": [],
   "source": [
    "def plot_two_images_with_matches(im1, im2, inlier_pts1, inlier_pts2):\n",
    "    '''Plot two images side by side with matches shown'''\n",
    "    # Convert grayscale images to BGR so that we can draw colored lines\n",
    "    im1_color = cv2.cvtColor(im1, cv2.COLOR_GRAY2BGR)\n",
    "    im2_color = cv2.cvtColor(im2, cv2.COLOR_GRAY2BGR)\n",
    "\n",
    "    img3 = np.hstack((im1_color, im2_color))\n",
    "    for pt1, pt2 in zip(inlier_pts1, inlier_pts2):\n",
    "        pt2 = (pt2[0] + im1.shape[1], pt2[1])\n",
    "        cv2.line(img3, tuple(map(int, pt1)), tuple(map(int, pt2)), (0, 255, 0), 1)\n",
    "        cv2.circle(img3, tuple(map(int, pt1)), 5, (0, 0, 255), -1)\n",
    "        cv2.circle(img3, tuple(map(int, pt2)), 5, (0, 0, 255), -1)\n",
    "\n",
    "\n",
    "    # Show the matches image\n",
    "    plt.figure()\n",
    "    plt.imshow(cv2.cvtColor(img3, cv2.COLOR_BGR2RGB))\n",
    "    plt.show()"
   ]
  },
  {
   "cell_type": "markdown",
   "metadata": {},
   "source": [
    "### Show feature matches"
   ]
  },
  {
   "cell_type": "code",
   "execution_count": 7,
   "metadata": {},
   "outputs": [
    {
     "name": "stdout",
     "output_type": "stream",
     "text": [
      "c:\\Users\\Home\\Documents\\GitHub\\Comp558Project\\8PointAlgorithm\\Reference_Render_cubes\\Reference_Render_Translation\\cubes_translation0001.png\n"
     ]
    },
    {
     "ename": "TypeError",
     "evalue": "Image data of dtype object cannot be converted to float",
     "output_type": "error",
     "traceback": [
      "\u001b[1;31m---------------------------------------------------------------------------\u001b[0m",
      "\u001b[1;31mTypeError\u001b[0m                                 Traceback (most recent call last)",
      "Cell \u001b[1;32mIn[7], line 7\u001b[0m\n\u001b[0;32m      5\u001b[0m im1 \u001b[38;5;241m=\u001b[39m cv2\u001b[38;5;241m.\u001b[39mimread(os\u001b[38;5;241m.\u001b[39mpath\u001b[38;5;241m.\u001b[39mjoin(absolute_folder_path,im1_name), \u001b[38;5;241m3\u001b[39m)\n\u001b[0;32m      6\u001b[0m plt\u001b[38;5;241m.\u001b[39mtitle(im1_name)\n\u001b[1;32m----> 7\u001b[0m a \u001b[38;5;241m=\u001b[39m \u001b[43mplt\u001b[49m\u001b[38;5;241;43m.\u001b[39;49m\u001b[43mimshow\u001b[49m\u001b[43m(\u001b[49m\u001b[43mim1\u001b[49m\u001b[43m)\u001b[49m\n\u001b[0;32m      8\u001b[0m plt\u001b[38;5;241m.\u001b[39mshow()\n\u001b[0;32m     10\u001b[0m im2_name \u001b[38;5;241m=\u001b[39m \u001b[38;5;124m'\u001b[39m\u001b[38;5;124mcubes_translation0100.png\u001b[39m\u001b[38;5;124m'\u001b[39m\n",
      "File \u001b[1;32mc:\\Users\\Home\\anaconda3\\envs\\comp558project\\Lib\\site-packages\\matplotlib\\pyplot.py:3562\u001b[0m, in \u001b[0;36mimshow\u001b[1;34m(X, cmap, norm, aspect, interpolation, alpha, vmin, vmax, origin, extent, interpolation_stage, filternorm, filterrad, resample, url, data, **kwargs)\u001b[0m\n\u001b[0;32m   3541\u001b[0m \u001b[38;5;129m@_copy_docstring_and_deprecators\u001b[39m(Axes\u001b[38;5;241m.\u001b[39mimshow)\n\u001b[0;32m   3542\u001b[0m \u001b[38;5;28;01mdef\u001b[39;00m \u001b[38;5;21mimshow\u001b[39m(\n\u001b[0;32m   3543\u001b[0m     X: ArrayLike \u001b[38;5;241m|\u001b[39m PIL\u001b[38;5;241m.\u001b[39mImage\u001b[38;5;241m.\u001b[39mImage,\n\u001b[1;32m   (...)\u001b[0m\n\u001b[0;32m   3560\u001b[0m     \u001b[38;5;241m*\u001b[39m\u001b[38;5;241m*\u001b[39mkwargs,\n\u001b[0;32m   3561\u001b[0m ) \u001b[38;5;241m-\u001b[39m\u001b[38;5;241m>\u001b[39m AxesImage:\n\u001b[1;32m-> 3562\u001b[0m     __ret \u001b[38;5;241m=\u001b[39m \u001b[43mgca\u001b[49m\u001b[43m(\u001b[49m\u001b[43m)\u001b[49m\u001b[38;5;241;43m.\u001b[39;49m\u001b[43mimshow\u001b[49m\u001b[43m(\u001b[49m\n\u001b[0;32m   3563\u001b[0m \u001b[43m        \u001b[49m\u001b[43mX\u001b[49m\u001b[43m,\u001b[49m\n\u001b[0;32m   3564\u001b[0m \u001b[43m        \u001b[49m\u001b[43mcmap\u001b[49m\u001b[38;5;241;43m=\u001b[39;49m\u001b[43mcmap\u001b[49m\u001b[43m,\u001b[49m\n\u001b[0;32m   3565\u001b[0m \u001b[43m        \u001b[49m\u001b[43mnorm\u001b[49m\u001b[38;5;241;43m=\u001b[39;49m\u001b[43mnorm\u001b[49m\u001b[43m,\u001b[49m\n\u001b[0;32m   3566\u001b[0m \u001b[43m        \u001b[49m\u001b[43maspect\u001b[49m\u001b[38;5;241;43m=\u001b[39;49m\u001b[43maspect\u001b[49m\u001b[43m,\u001b[49m\n\u001b[0;32m   3567\u001b[0m \u001b[43m        \u001b[49m\u001b[43minterpolation\u001b[49m\u001b[38;5;241;43m=\u001b[39;49m\u001b[43minterpolation\u001b[49m\u001b[43m,\u001b[49m\n\u001b[0;32m   3568\u001b[0m \u001b[43m        \u001b[49m\u001b[43malpha\u001b[49m\u001b[38;5;241;43m=\u001b[39;49m\u001b[43malpha\u001b[49m\u001b[43m,\u001b[49m\n\u001b[0;32m   3569\u001b[0m \u001b[43m        \u001b[49m\u001b[43mvmin\u001b[49m\u001b[38;5;241;43m=\u001b[39;49m\u001b[43mvmin\u001b[49m\u001b[43m,\u001b[49m\n\u001b[0;32m   3570\u001b[0m \u001b[43m        \u001b[49m\u001b[43mvmax\u001b[49m\u001b[38;5;241;43m=\u001b[39;49m\u001b[43mvmax\u001b[49m\u001b[43m,\u001b[49m\n\u001b[0;32m   3571\u001b[0m \u001b[43m        \u001b[49m\u001b[43morigin\u001b[49m\u001b[38;5;241;43m=\u001b[39;49m\u001b[43morigin\u001b[49m\u001b[43m,\u001b[49m\n\u001b[0;32m   3572\u001b[0m \u001b[43m        \u001b[49m\u001b[43mextent\u001b[49m\u001b[38;5;241;43m=\u001b[39;49m\u001b[43mextent\u001b[49m\u001b[43m,\u001b[49m\n\u001b[0;32m   3573\u001b[0m \u001b[43m        \u001b[49m\u001b[43minterpolation_stage\u001b[49m\u001b[38;5;241;43m=\u001b[39;49m\u001b[43minterpolation_stage\u001b[49m\u001b[43m,\u001b[49m\n\u001b[0;32m   3574\u001b[0m \u001b[43m        \u001b[49m\u001b[43mfilternorm\u001b[49m\u001b[38;5;241;43m=\u001b[39;49m\u001b[43mfilternorm\u001b[49m\u001b[43m,\u001b[49m\n\u001b[0;32m   3575\u001b[0m \u001b[43m        \u001b[49m\u001b[43mfilterrad\u001b[49m\u001b[38;5;241;43m=\u001b[39;49m\u001b[43mfilterrad\u001b[49m\u001b[43m,\u001b[49m\n\u001b[0;32m   3576\u001b[0m \u001b[43m        \u001b[49m\u001b[43mresample\u001b[49m\u001b[38;5;241;43m=\u001b[39;49m\u001b[43mresample\u001b[49m\u001b[43m,\u001b[49m\n\u001b[0;32m   3577\u001b[0m \u001b[43m        \u001b[49m\u001b[43murl\u001b[49m\u001b[38;5;241;43m=\u001b[39;49m\u001b[43murl\u001b[49m\u001b[43m,\u001b[49m\n\u001b[0;32m   3578\u001b[0m \u001b[43m        \u001b[49m\u001b[38;5;241;43m*\u001b[39;49m\u001b[38;5;241;43m*\u001b[39;49m\u001b[43m(\u001b[49m\u001b[43m{\u001b[49m\u001b[38;5;124;43m\"\u001b[39;49m\u001b[38;5;124;43mdata\u001b[39;49m\u001b[38;5;124;43m\"\u001b[39;49m\u001b[43m:\u001b[49m\u001b[43m \u001b[49m\u001b[43mdata\u001b[49m\u001b[43m}\u001b[49m\u001b[43m \u001b[49m\u001b[38;5;28;43;01mif\u001b[39;49;00m\u001b[43m \u001b[49m\u001b[43mdata\u001b[49m\u001b[43m \u001b[49m\u001b[38;5;129;43;01mis\u001b[39;49;00m\u001b[43m \u001b[49m\u001b[38;5;129;43;01mnot\u001b[39;49;00m\u001b[43m \u001b[49m\u001b[38;5;28;43;01mNone\u001b[39;49;00m\u001b[43m \u001b[49m\u001b[38;5;28;43;01melse\u001b[39;49;00m\u001b[43m \u001b[49m\u001b[43m{\u001b[49m\u001b[43m}\u001b[49m\u001b[43m)\u001b[49m\u001b[43m,\u001b[49m\n\u001b[0;32m   3579\u001b[0m \u001b[43m        \u001b[49m\u001b[38;5;241;43m*\u001b[39;49m\u001b[38;5;241;43m*\u001b[39;49m\u001b[43mkwargs\u001b[49m\u001b[43m,\u001b[49m\n\u001b[0;32m   3580\u001b[0m \u001b[43m    \u001b[49m\u001b[43m)\u001b[49m\n\u001b[0;32m   3581\u001b[0m     sci(__ret)\n\u001b[0;32m   3582\u001b[0m     \u001b[38;5;28;01mreturn\u001b[39;00m __ret\n",
      "File \u001b[1;32mc:\\Users\\Home\\anaconda3\\envs\\comp558project\\Lib\\site-packages\\matplotlib\\__init__.py:1473\u001b[0m, in \u001b[0;36m_preprocess_data.<locals>.inner\u001b[1;34m(ax, data, *args, **kwargs)\u001b[0m\n\u001b[0;32m   1470\u001b[0m \u001b[38;5;129m@functools\u001b[39m\u001b[38;5;241m.\u001b[39mwraps(func)\n\u001b[0;32m   1471\u001b[0m \u001b[38;5;28;01mdef\u001b[39;00m \u001b[38;5;21minner\u001b[39m(ax, \u001b[38;5;241m*\u001b[39margs, data\u001b[38;5;241m=\u001b[39m\u001b[38;5;28;01mNone\u001b[39;00m, \u001b[38;5;241m*\u001b[39m\u001b[38;5;241m*\u001b[39mkwargs):\n\u001b[0;32m   1472\u001b[0m     \u001b[38;5;28;01mif\u001b[39;00m data \u001b[38;5;129;01mis\u001b[39;00m \u001b[38;5;28;01mNone\u001b[39;00m:\n\u001b[1;32m-> 1473\u001b[0m         \u001b[38;5;28;01mreturn\u001b[39;00m \u001b[43mfunc\u001b[49m\u001b[43m(\u001b[49m\n\u001b[0;32m   1474\u001b[0m \u001b[43m            \u001b[49m\u001b[43max\u001b[49m\u001b[43m,\u001b[49m\n\u001b[0;32m   1475\u001b[0m \u001b[43m            \u001b[49m\u001b[38;5;241;43m*\u001b[39;49m\u001b[38;5;28;43mmap\u001b[39;49m\u001b[43m(\u001b[49m\u001b[43msanitize_sequence\u001b[49m\u001b[43m,\u001b[49m\u001b[43m \u001b[49m\u001b[43margs\u001b[49m\u001b[43m)\u001b[49m\u001b[43m,\u001b[49m\n\u001b[0;32m   1476\u001b[0m \u001b[43m            \u001b[49m\u001b[38;5;241;43m*\u001b[39;49m\u001b[38;5;241;43m*\u001b[39;49m\u001b[43m{\u001b[49m\u001b[43mk\u001b[49m\u001b[43m:\u001b[49m\u001b[43m \u001b[49m\u001b[43msanitize_sequence\u001b[49m\u001b[43m(\u001b[49m\u001b[43mv\u001b[49m\u001b[43m)\u001b[49m\u001b[43m \u001b[49m\u001b[38;5;28;43;01mfor\u001b[39;49;00m\u001b[43m \u001b[49m\u001b[43mk\u001b[49m\u001b[43m,\u001b[49m\u001b[43m \u001b[49m\u001b[43mv\u001b[49m\u001b[43m \u001b[49m\u001b[38;5;129;43;01min\u001b[39;49;00m\u001b[43m \u001b[49m\u001b[43mkwargs\u001b[49m\u001b[38;5;241;43m.\u001b[39;49m\u001b[43mitems\u001b[49m\u001b[43m(\u001b[49m\u001b[43m)\u001b[49m\u001b[43m}\u001b[49m\u001b[43m)\u001b[49m\n\u001b[0;32m   1478\u001b[0m     bound \u001b[38;5;241m=\u001b[39m new_sig\u001b[38;5;241m.\u001b[39mbind(ax, \u001b[38;5;241m*\u001b[39margs, \u001b[38;5;241m*\u001b[39m\u001b[38;5;241m*\u001b[39mkwargs)\n\u001b[0;32m   1479\u001b[0m     auto_label \u001b[38;5;241m=\u001b[39m (bound\u001b[38;5;241m.\u001b[39marguments\u001b[38;5;241m.\u001b[39mget(label_namer)\n\u001b[0;32m   1480\u001b[0m                   \u001b[38;5;129;01mor\u001b[39;00m bound\u001b[38;5;241m.\u001b[39mkwargs\u001b[38;5;241m.\u001b[39mget(label_namer))\n",
      "File \u001b[1;32mc:\\Users\\Home\\anaconda3\\envs\\comp558project\\Lib\\site-packages\\matplotlib\\axes\\_axes.py:5895\u001b[0m, in \u001b[0;36mAxes.imshow\u001b[1;34m(self, X, cmap, norm, aspect, interpolation, alpha, vmin, vmax, origin, extent, interpolation_stage, filternorm, filterrad, resample, url, **kwargs)\u001b[0m\n\u001b[0;32m   5892\u001b[0m \u001b[38;5;28;01mif\u001b[39;00m aspect \u001b[38;5;129;01mis\u001b[39;00m \u001b[38;5;129;01mnot\u001b[39;00m \u001b[38;5;28;01mNone\u001b[39;00m:\n\u001b[0;32m   5893\u001b[0m     \u001b[38;5;28mself\u001b[39m\u001b[38;5;241m.\u001b[39mset_aspect(aspect)\n\u001b[1;32m-> 5895\u001b[0m \u001b[43mim\u001b[49m\u001b[38;5;241;43m.\u001b[39;49m\u001b[43mset_data\u001b[49m\u001b[43m(\u001b[49m\u001b[43mX\u001b[49m\u001b[43m)\u001b[49m\n\u001b[0;32m   5896\u001b[0m im\u001b[38;5;241m.\u001b[39mset_alpha(alpha)\n\u001b[0;32m   5897\u001b[0m \u001b[38;5;28;01mif\u001b[39;00m im\u001b[38;5;241m.\u001b[39mget_clip_path() \u001b[38;5;129;01mis\u001b[39;00m \u001b[38;5;28;01mNone\u001b[39;00m:\n\u001b[0;32m   5898\u001b[0m     \u001b[38;5;66;03m# image does not already have clipping set, clip to Axes patch\u001b[39;00m\n",
      "File \u001b[1;32mc:\\Users\\Home\\anaconda3\\envs\\comp558project\\Lib\\site-packages\\matplotlib\\image.py:729\u001b[0m, in \u001b[0;36m_ImageBase.set_data\u001b[1;34m(self, A)\u001b[0m\n\u001b[0;32m    727\u001b[0m \u001b[38;5;28;01mif\u001b[39;00m \u001b[38;5;28misinstance\u001b[39m(A, PIL\u001b[38;5;241m.\u001b[39mImage\u001b[38;5;241m.\u001b[39mImage):\n\u001b[0;32m    728\u001b[0m     A \u001b[38;5;241m=\u001b[39m pil_to_array(A)  \u001b[38;5;66;03m# Needed e.g. to apply png palette.\u001b[39;00m\n\u001b[1;32m--> 729\u001b[0m \u001b[38;5;28mself\u001b[39m\u001b[38;5;241m.\u001b[39m_A \u001b[38;5;241m=\u001b[39m \u001b[38;5;28;43mself\u001b[39;49m\u001b[38;5;241;43m.\u001b[39;49m\u001b[43m_normalize_image_array\u001b[49m\u001b[43m(\u001b[49m\u001b[43mA\u001b[49m\u001b[43m)\u001b[49m\n\u001b[0;32m    730\u001b[0m \u001b[38;5;28mself\u001b[39m\u001b[38;5;241m.\u001b[39m_imcache \u001b[38;5;241m=\u001b[39m \u001b[38;5;28;01mNone\u001b[39;00m\n\u001b[0;32m    731\u001b[0m \u001b[38;5;28mself\u001b[39m\u001b[38;5;241m.\u001b[39mstale \u001b[38;5;241m=\u001b[39m \u001b[38;5;28;01mTrue\u001b[39;00m\n",
      "File \u001b[1;32mc:\\Users\\Home\\anaconda3\\envs\\comp558project\\Lib\\site-packages\\matplotlib\\image.py:692\u001b[0m, in \u001b[0;36m_ImageBase._normalize_image_array\u001b[1;34m(A)\u001b[0m\n\u001b[0;32m    690\u001b[0m A \u001b[38;5;241m=\u001b[39m cbook\u001b[38;5;241m.\u001b[39msafe_masked_invalid(A, copy\u001b[38;5;241m=\u001b[39m\u001b[38;5;28;01mTrue\u001b[39;00m)\n\u001b[0;32m    691\u001b[0m \u001b[38;5;28;01mif\u001b[39;00m A\u001b[38;5;241m.\u001b[39mdtype \u001b[38;5;241m!=\u001b[39m np\u001b[38;5;241m.\u001b[39muint8 \u001b[38;5;129;01mand\u001b[39;00m \u001b[38;5;129;01mnot\u001b[39;00m np\u001b[38;5;241m.\u001b[39mcan_cast(A\u001b[38;5;241m.\u001b[39mdtype, \u001b[38;5;28mfloat\u001b[39m, \u001b[38;5;124m\"\u001b[39m\u001b[38;5;124msame_kind\u001b[39m\u001b[38;5;124m\"\u001b[39m):\n\u001b[1;32m--> 692\u001b[0m     \u001b[38;5;28;01mraise\u001b[39;00m \u001b[38;5;167;01mTypeError\u001b[39;00m(\u001b[38;5;124mf\u001b[39m\u001b[38;5;124m\"\u001b[39m\u001b[38;5;124mImage data of dtype \u001b[39m\u001b[38;5;132;01m{\u001b[39;00mA\u001b[38;5;241m.\u001b[39mdtype\u001b[38;5;132;01m}\u001b[39;00m\u001b[38;5;124m cannot be \u001b[39m\u001b[38;5;124m\"\u001b[39m\n\u001b[0;32m    693\u001b[0m                     \u001b[38;5;124mf\u001b[39m\u001b[38;5;124m\"\u001b[39m\u001b[38;5;124mconverted to float\u001b[39m\u001b[38;5;124m\"\u001b[39m)\n\u001b[0;32m    694\u001b[0m \u001b[38;5;28;01mif\u001b[39;00m A\u001b[38;5;241m.\u001b[39mndim \u001b[38;5;241m==\u001b[39m \u001b[38;5;241m3\u001b[39m \u001b[38;5;129;01mand\u001b[39;00m A\u001b[38;5;241m.\u001b[39mshape[\u001b[38;5;241m-\u001b[39m\u001b[38;5;241m1\u001b[39m] \u001b[38;5;241m==\u001b[39m \u001b[38;5;241m1\u001b[39m:\n\u001b[0;32m    695\u001b[0m     A \u001b[38;5;241m=\u001b[39m A\u001b[38;5;241m.\u001b[39msqueeze(\u001b[38;5;241m-\u001b[39m\u001b[38;5;241m1\u001b[39m)  \u001b[38;5;66;03m# If just (M, N, 1), assume scalar and apply colormap.\u001b[39;00m\n",
      "\u001b[1;31mTypeError\u001b[0m: Image data of dtype object cannot be converted to float"
     ]
    },
    {
     "data": {
      "image/png": "[encoded data removed]",
      "text/plain": [
       "<Figure size 640x480 with 1 Axes>"
      ]
     },
     "metadata": {},
     "output_type": "display_data"
    }
   ],
   "source": [
    "# load images\n",
    "absolute_folder_path = os.path.join(os.getcwd(), 'Reference_Render_cubes', 'Reference_Render_Translation')\n",
    "print(absolute_folder_path)\n",
    "im1_name = 'cubes_translation0001.png'\n",
    "im1 = cv2.imread(os.path.join(absolute_folder_path,im1_name), 3)\n",
    "plt.title(im1_name)\n",
    "a = plt.imshow(im1)\n",
    "plt.show()\n",
    "\n",
    "im2_name = 'cubes_translation0100.png'\n",
    "im2 = cv2.imread(os.path.join(absolute_folder_path,im2_name), 3)\n",
    "plt.title(im2_name)\n",
    "a = plt.imshow(im2)\n",
    "plt.show()\n",
    "\n",
    "# Convert images to grayscale\n",
    "im1_gray = cv2.cvtColor(im1, cv2.COLOR_BGR2GRAY)\n",
    "im2_gray = cv2.cvtColor(im2, cv2.COLOR_BGR2GRAY)\n",
    "\n",
    "# Plot "
   ]
  },
  {
   "cell_type": "code",
   "execution_count": 48,
   "metadata": {},
   "outputs": [
    {
     "data": {
      "image/png": "[encoded data removed]",
      "text/plain": [
       "<Figure size 640x480 with 1 Axes>"
      ]
     },
     "metadata": {},
     "output_type": "display_data"
    },
    {
     "name": "stdout",
     "output_type": "stream",
     "text": [
      "Number of matching points found: 29\n"
     ]
    }
   ],
   "source": [
    "\n",
    "# Compute points\n",
    "pts1, pts2 = find_inlier_matching_points(im1_gray, im2_gray)\n",
    "\n",
    "# Plot the inlier matching points\n",
    "plot_two_images_with_matches(im1_gray, im2_gray, pts1, pts2)\n",
    "\n",
    "print(f\"Number of matching points found: {len(pts1)}\")\n"
   ]
  },
  {
   "cell_type": "markdown",
   "metadata": {},
   "source": [
    "## Compute the fundamental matrix"
   ]
  },
  {
   "cell_type": "code",
   "execution_count": 35,
   "metadata": {},
   "outputs": [],
   "source": [
    "def compute_normalization_matrix(pts):\n",
    "    \"\"\"Computes the normalization matrix for the points. Assumes x,y and shape (N x 2)\"\"\"    \n",
    "    # Normalize points\n",
    "    pts1_mean = np.mean(pts, axis=0)\n",
    "    \n",
    "    pts1_std = np.std(pts) # TODO: Computes flattened std. Need to instead compute as seen in the lecture slides (https://stackoverflow.com/questions/52940822/what-is-the-correct-way-to-normalize-corresponding-points-before-estimation-of-f)\n",
    "    T = np.array([[1/pts1_std, 0, -pts1_mean[0]/pts1_std],\n",
    "                [0, 1/pts1_std, -pts1_mean[1]/pts1_std],\n",
    "                [0, 0, 1]])\n",
    "    return T\n",
    "    "
   ]
  },
  {
   "cell_type": "markdown",
   "metadata": {},
   "source": [
    "### Compute Fundamental Matrix"
   ]
  },
  {
   "cell_type": "code",
   "execution_count": 65,
   "metadata": {},
   "outputs": [],
   "source": [
    "def compute_fundamental_matrix(pts1, pts2):\n",
    "    return cv2.findFundamentalMat(pts1, pts2, cv2.RANSAC)"
   ]
  },
  {
   "cell_type": "markdown",
   "metadata": {},
   "source": [
    "### Compute Essential matrix"
   ]
  },
  {
   "cell_type": "code",
   "execution_count": 66,
   "metadata": {},
   "outputs": [],
   "source": [
    "def compute_essential_matrix(pts1, pts2, K):\n",
    "    return cv2.findEssentialMat(pts1, pts2, K, cv2.RANSAC)"
   ]
  },
  {
   "cell_type": "markdown",
   "metadata": {},
   "source": [
    "Test compute E and F"
   ]
  },
  {
   "cell_type": "code",
   "execution_count": null,
   "metadata": {},
   "outputs": [
    {
     "ename": "NameError",
     "evalue": "name 'np' is not defined",
     "output_type": "error",
     "traceback": [
      "\u001b[1;31m---------------------------------------------------------------------------\u001b[0m",
      "\u001b[1;31mNameError\u001b[0m                                 Traceback (most recent call last)",
      "Cell \u001b[1;32mIn[1], line 2\u001b[0m\n\u001b[0;32m      1\u001b[0m \u001b[38;5;66;03m# Define Intrinsic Matrix\u001b[39;00m\n\u001b[1;32m----> 2\u001b[0m K \u001b[38;5;241m=\u001b[39m \u001b[43mnp\u001b[49m\u001b[38;5;241m.\u001b[39marray([[\u001b[38;5;241m2666.666666666\u001b[39m, \u001b[38;5;241m0\u001b[39m, \u001b[38;5;241m960\u001b[39m],\n\u001b[0;32m      3\u001b[0m             [\u001b[38;5;241m0\u001b[39m, \u001b[38;5;241m2666.666666666\u001b[39m, \u001b[38;5;241m540\u001b[39m],\n\u001b[0;32m      4\u001b[0m             [\u001b[38;5;241m0\u001b[39m, \u001b[38;5;241m0\u001b[39m, \u001b[38;5;241m1\u001b[39m]]) \n\u001b[0;32m      5\u001b[0m F, mask \u001b[38;5;241m=\u001b[39m compute_fundamental_matrix(pts1, pts2)\n\u001b[0;32m      6\u001b[0m norm \u001b[38;5;241m=\u001b[39m np\u001b[38;5;241m.\u001b[39mlinalg\u001b[38;5;241m.\u001b[39mnorm(F)\n",
      "\u001b[1;31mNameError\u001b[0m: name 'np' is not defined"
     ]
    }
   ],
   "source": [
    "# Define Intrinsic Matrix\n",
    "K = np.array([[2666.666666666, 0, 960],\n",
    "            [0, 2666.666666666, 540],\n",
    "            [0, 0, 1]]) \n",
    "F, mask = compute_fundamental_matrix(pts1, pts2)\n",
    "norm = np.linalg.norm(F)\n",
    "F /= norm\n",
    "print(F.shape)\n",
    "E = np.matmul(np.matmul(K.T, F), K)\n",
    "norm = np.linalg.norm(E)\n",
    "E /= norm\n",
    "\n",
    "E_prime, mask = compute_essential_matrix(pts1, pts2, K)\n",
    "norm = np.linalg.norm(E_prime)\n",
    "E_prime /= norm\n",
    "\n",
    "print(f\"E from fund = {E}\")\n",
    "print(f\"E from direct = {E_prime}\")"
   ]
  },
  {
   "cell_type": "code",
   "execution_count": null,
   "metadata": {},
   "outputs": [],
   "source": [
    "from helper import apply_matrix\n",
    "# Plot transformed points\n",
    "transformed_pts = apply_matrix(pts1, F)\n",
    "\n",
    "\n",
    "plt.title(im2_name)\n",
    "a = plt.imshow(im2)\n",
    "plt.scatter(x=pts2[:,0], y=pts2[:,1], c='r', label = \"Base feature points\")\n",
    "plt.scatter(x=transformed_pts[:,0], y=transformed_pts[:,1], c='g', label =\"Transformed feature points\")\n",
    "plt.legend(loc=\"upper left\")\n",
    "plt.show()"
   ]
  },
  {
   "cell_type": "markdown",
   "metadata": {},
   "source": [
    "## Essential Matrix"
   ]
  },
  {
   "cell_type": "code",
   "execution_count": 37,
   "metadata": {},
   "outputs": [],
   "source": [
    "def compute_essential_matrix(F, K):\n",
    "    '''Recover essential matrix from fundamental matrix and camera intrinsic matrix'''\n",
    "    E = np.matmul(np.matmul(K.T, F), K)\n",
    "    return E"
   ]
  },
  {
   "cell_type": "code",
   "execution_count": 76,
   "metadata": {},
   "outputs": [],
   "source": [
    "def recover_rotation_translation(E):\n",
    "    U, S, Vt = np.linalg.svd(E)\n",
    "\n",
    "    if np.linalg.det(U) < 0:\n",
    "        U = -U\n",
    "    if np.linalg.det(Vt) < 0:\n",
    "        Vt = -Vt\n",
    "\n",
    "    D = np.array([[0, 1, 0], [-1, 0, 0], [0, 0, 1]])\n",
    "    R1 = U@D@Vt\n",
    "    R2 = U@D.T@Vt\n",
    "    t1 = U[:, 2]\n",
    "    t2 = -U[:, 2]\n",
    "\n",
    "    return R1, R2, t1, t2\n"
   ]
  },
  {
   "cell_type": "markdown",
   "metadata": {},
   "source": [
    "### Disambiguate rotation and translation based on valid points and intrinsics"
   ]
  },
  {
   "cell_type": "code",
   "execution_count": 77,
   "metadata": {},
   "outputs": [],
   "source": [
    "def disambiguate_rotation_translation(R1, R2, t1, t2, pts1, pts2, K):\n",
    "    P1 = np.hstack((np.eye(3), np.zeros((3, 1))))\n",
    "    P2_candidates = [\n",
    "        np.hstack((R1, t1.reshape(-1, 1))),\n",
    "        np.hstack((R1, t2.reshape(-1, 1))),\n",
    "        np.hstack((R2, t1.reshape(-1, 1))),\n",
    "        np.hstack((R2, t2.reshape(-1, 1))),\n",
    "    ]\n",
    "\n",
    "    max_valid_points_count = 0\n",
    "    threshold = 10\n",
    "    bestR = None\n",
    "    bestT = None\n",
    "    for i, P2 in enumerate(P2_candidates):\n",
    "        points_4d_hom = cv2.triangulatePoints(P1, P2, pts1.T, pts2.T)\n",
    "        points_3d = points_4d_hom[:3] / points_4d_hom[3]\n",
    "\n",
    "        in_front_of_cam1 = points_3d[2, :] > 0\n",
    "        in_front_of_cam2 = (P2 @ np.vstack((points_3d, np.ones((1, points_3d.shape[1])))))[2, :] > 0\n",
    "\n",
    "        valid_points_count = np.sum(in_front_of_cam1 & in_front_of_cam2)\n",
    "\n",
    "        if valid_points_count > threshold and valid_points_count > max_valid_points_count:\n",
    "            print(f\"Correct solution: R = {P2[:, :3]}, t = {P2[:, 3]}, valid points count = {valid_points_count}\")\n",
    "            max_valid_points_count = valid_points_count\n",
    "            bestR = P2[:, :3]\n",
    "            bestT = P2[:, 3]\n",
    "\n",
    "    return bestR, bestT"
   ]
  },
  {
   "cell_type": "code",
   "execution_count": 85,
   "metadata": {},
   "outputs": [
    {
     "name": "stdout",
     "output_type": "stream",
     "text": [
      "R1:[[ 0.96955275  0.00716682 -0.24477767]\n",
      " [ 0.00537236  0.99870856  0.05052075]\n",
      " [ 0.24482362 -0.05029757  0.96826213]], R2:[[ 0.5974313  -0.77120336  0.21982088]\n",
      " [-0.78467744 -0.61873178 -0.03810904]\n",
      " [ 0.16539999 -0.14972095 -0.97479561]], t1:[ 0.87175307 -0.43354723  0.22821783], t2:[-0.87175307  0.43354723 -0.22821783]\n",
      "R1:[[ 0.96955275  0.00716682 -0.24477767]\n",
      " [ 0.00537236  0.99870856  0.05052075]\n",
      " [ 0.24482362 -0.05029757  0.96826213]], R2:[[ 0.5974313  -0.77120336  0.21982088]\n",
      " [-0.78467744 -0.61873178 -0.03810904]\n",
      " [ 0.16539999 -0.14972095 -0.97479561]], t[[-0.87175307]\n",
      " [ 0.43354723]\n",
      " [-0.22821783]]\n",
      "Correct solution: R = [[ 0.96955275  0.00716682 -0.24477767]\n",
      " [ 0.00537236  0.99870856  0.05052075]\n",
      " [ 0.24482362 -0.05029757  0.96826213]], t = [-0.87175307  0.43354723 -0.22821783], valid points count = 29\n"
     ]
    }
   ],
   "source": [
    "R1, R2, t1, t2 = recover_rotation_translation(E_prime)\n",
    "print(f\"R1:{R1}, R2:{R2}, t1:{t1}, t2:{t2}\")\n",
    "R1, R2, t = cv2.decomposeEssentialMat(E_prime)\n",
    "print(f\"R1:{R1}, R2:{R2}, t{t}\")\n",
    "\n",
    "# R1, R2, t1, t2 = recover_rotation_translation(E)\n",
    "# print(f\"R1:{R1}, R2:{R2}, t1:{t1}, t2:{t2}\")\n",
    "# R1, R2, t = cv2.decomposeEssentialMat(E)\n",
    "# print(f\"R1:{R1}, R2:{R2}, t{t}\")\n",
    "bestR, bestT = disambiguate_rotation_translation(R1, R2, t1, t2, pts1, pts2, K)"
   ]
  },
  {
   "cell_type": "markdown",
   "metadata": {},
   "source": [
    "## Graph Results"
   ]
  },
  {
   "cell_type": "code",
   "execution_count": 39,
   "metadata": {},
   "outputs": [],
   "source": [
    "# Display the movement of the camera in 3D space from an array of translation matrices\n",
    "def display_camera_movement(t_list):\n",
    "    # Enable interactive mode\n",
    "    # Create a 3D plot\n",
    "    fig = plt.figure()\n",
    "    ax = fig.add_subplot(111, projection='3d')\n",
    "\n",
    "    # Plot the origin\n",
    "    ax.scatter(0, 0, 0, color='r')\n",
    "    ax.text(0, 0, 0, \"Camera 1\")\n",
    "\n",
    "    # Initialize the current displacement\n",
    "    current_displacement = np.zeros(3)\n",
    "\n",
    "    # Plot the camera positions\n",
    "    for i, t in enumerate(t_list):\n",
    "        current_displacement += t\n",
    "        ax.scatter(current_displacement[0], current_displacement[1], current_displacement[2], color='b')\n",
    "        ax.text(current_displacement[0], current_displacement[1], current_displacement[2], f\"Camera {i+2}\")\n",
    "\n",
    "    # Set the axes limits\n",
    "    ax.set_xlim([-2, 2])\n",
    "    ax.set_ylim([-2, 2])\n",
    "    ax.set_zlim([-2, 2])\n",
    "\n",
    "    # Show the plot\n",
    "    plt.show()"
   ]
  },
  {
   "cell_type": "code",
   "execution_count": 40,
   "metadata": {},
   "outputs": [],
   "source": [
    "# Define Intrinsic Matrix\n",
    "K = np.array([[2666.666666666, 0, 960],\n",
    "            [0, 2666.666666666, 540],\n",
    "            [0, 0, 1]]) "
   ]
  }
 ],
 "metadata": {
  "kernelspec": {
   "display_name": "comp558project",
   "language": "python",
   "name": "python3"
  },
  "language_info": {
   "codemirror_mode": {
    "name": "ipython",
    "version": 3
   },
   "file_extension": ".py",
   "mimetype": "text/x-python",
   "name": "python",
   "nbconvert_exporter": "python",
   "pygments_lexer": "ipython3",
   "version": "3.12.6"
  }
 },
 "nbformat": 4,
 "nbformat_minor": 2
}
